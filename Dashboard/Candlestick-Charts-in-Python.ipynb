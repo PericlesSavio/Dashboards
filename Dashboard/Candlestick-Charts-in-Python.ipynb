{
    "cells": [
        {
            "cell_type": "markdown",
            "metadata": {
                "collapsed": false
            },
            "source": [
                "# Plotly Candlestick Chart in Python"
            ]
        },
        {
            "cell_type": "code",
            "execution_count": 3,
            "metadata": {
                "collapsed": false
            },
            "outputs": [],
            "source": [
                "#import pandas.io.data as web\n",
                "from datetime import datetime\n",
                "import numpy as np\n",
                "import pandas as pd\n",
                "#import plotly.plotly as py\n",
                "import plotly"
            ]
        },
        {
            "cell_type": "code",
            "execution_count": 4,
            "metadata": {
                "collapsed": true
            },
            "outputs": [
                {
                    "name": "stdout",
                    "output_type": "stream",
                    "text": [
                        "[*********************100%***********************]  1 of 1 completed\n"
                    ]
                }
            ],
            "source": [
                "#df = web.DataReader(\"gs\", 'yahoo', datetime(2008, 1, 1), datetime(2008, 12, 28))\n",
                "\n",
                "import yfinance as yf\n",
                "ticker = \"AMER3.SA\"\n",
                "df  =yf.download(ticker, start='2022-02-02', end='2023-02-02')"
            ]
        },
        {
            "cell_type": "code",
            "execution_count": 6,
            "metadata": {
                "collapsed": false
            },
            "outputs": [
                {
                    "data": {
                        "text/html": [
                            "<div>\n",
                            "<style scoped>\n",
                            "    .dataframe tbody tr th:only-of-type {\n",
                            "        vertical-align: middle;\n",
                            "    }\n",
                            "\n",
                            "    .dataframe tbody tr th {\n",
                            "        vertical-align: top;\n",
                            "    }\n",
                            "\n",
                            "    .dataframe thead th {\n",
                            "        text-align: right;\n",
                            "    }\n",
                            "</style>\n",
                            "<table border=\"1\" class=\"dataframe\">\n",
                            "  <thead>\n",
                            "    <tr style=\"text-align: right;\">\n",
                            "      <th></th>\n",
                            "      <th>Open</th>\n",
                            "      <th>High</th>\n",
                            "      <th>Low</th>\n",
                            "      <th>Close</th>\n",
                            "      <th>Adj Close</th>\n",
                            "      <th>Volume</th>\n",
                            "    </tr>\n",
                            "    <tr>\n",
                            "      <th>Date</th>\n",
                            "      <th></th>\n",
                            "      <th></th>\n",
                            "      <th></th>\n",
                            "      <th></th>\n",
                            "      <th></th>\n",
                            "      <th></th>\n",
                            "    </tr>\n",
                            "  </thead>\n",
                            "  <tbody>\n",
                            "    <tr>\n",
                            "      <th>2022-02-02</th>\n",
                            "      <td>31.330000</td>\n",
                            "      <td>32.439999</td>\n",
                            "      <td>30.580000</td>\n",
                            "      <td>31.209999</td>\n",
                            "      <td>31.209999</td>\n",
                            "      <td>7300100</td>\n",
                            "    </tr>\n",
                            "    <tr>\n",
                            "      <th>2022-02-03</th>\n",
                            "      <td>31.360001</td>\n",
                            "      <td>32.369999</td>\n",
                            "      <td>30.670000</td>\n",
                            "      <td>32.000000</td>\n",
                            "      <td>32.000000</td>\n",
                            "      <td>6719900</td>\n",
                            "    </tr>\n",
                            "    <tr>\n",
                            "      <th>2022-02-04</th>\n",
                            "      <td>32.160000</td>\n",
                            "      <td>32.209999</td>\n",
                            "      <td>30.530001</td>\n",
                            "      <td>32.150002</td>\n",
                            "      <td>32.150002</td>\n",
                            "      <td>7005100</td>\n",
                            "    </tr>\n",
                            "    <tr>\n",
                            "      <th>2022-02-07</th>\n",
                            "      <td>32.299999</td>\n",
                            "      <td>32.759998</td>\n",
                            "      <td>31.730000</td>\n",
                            "      <td>32.200001</td>\n",
                            "      <td>32.200001</td>\n",
                            "      <td>3894500</td>\n",
                            "    </tr>\n",
                            "    <tr>\n",
                            "      <th>2022-02-08</th>\n",
                            "      <td>32.070000</td>\n",
                            "      <td>33.529999</td>\n",
                            "      <td>31.120001</td>\n",
                            "      <td>33.270000</td>\n",
                            "      <td>33.270000</td>\n",
                            "      <td>6669900</td>\n",
                            "    </tr>\n",
                            "  </tbody>\n",
                            "</table>\n",
                            "</div>"
                        ],
                        "text/plain": [
                            "                 Open       High        Low      Close  Adj Close   Volume\n",
                            "Date                                                                      \n",
                            "2022-02-02  31.330000  32.439999  30.580000  31.209999  31.209999  7300100\n",
                            "2022-02-03  31.360001  32.369999  30.670000  32.000000  32.000000  6719900\n",
                            "2022-02-04  32.160000  32.209999  30.530001  32.150002  32.150002  7005100\n",
                            "2022-02-07  32.299999  32.759998  31.730000  32.200001  32.200001  3894500\n",
                            "2022-02-08  32.070000  33.529999  31.120001  33.270000  33.270000  6669900"
                        ]
                    },
                    "execution_count": 6,
                    "metadata": {},
                    "output_type": "execute_result"
                }
            ],
            "source": [
                "df.head()"
            ]
        },
        {
            "cell_type": "markdown",
            "metadata": {},
            "source": [
                "### Initial candlestick chart"
            ]
        },
        {
            "cell_type": "code",
            "execution_count": 7,
            "metadata": {
                "collapsed": true
            },
            "outputs": [],
            "source": [
                "INCREASING_COLOR = '#17BECF'\n",
                "DECREASING_COLOR = '#7F7F7F'"
            ]
        },
        {
            "cell_type": "code",
            "execution_count": 8,
            "metadata": {
                "collapsed": false
            },
            "outputs": [],
            "source": [
                "data = [ dict(\n",
                "    type = 'candlestick',\n",
                "    open = df.Open,\n",
                "    high = df.High,\n",
                "    low = df.Low,\n",
                "    close = df.Close,\n",
                "    x = df.index,\n",
                "    yaxis = 'y2',\n",
                "    name = 'GS',\n",
                "    increasing = dict( line = dict( color = INCREASING_COLOR ) ),\n",
                "    decreasing = dict( line = dict( color = DECREASING_COLOR ) ),\n",
                ") ]\n",
                "\n",
                "layout=dict()\n",
                "\n",
                "fig = dict( data=data, layout=layout )"
            ]
        },
        {
            "cell_type": "markdown",
            "metadata": {},
            "source": [
                "### Create the layout object"
            ]
        },
        {
            "cell_type": "code",
            "execution_count": 9,
            "metadata": {
                "collapsed": true
            },
            "outputs": [],
            "source": [
                "fig['layout'] = dict()\n",
                "fig['layout']['plot_bgcolor'] = 'rgb(250, 250, 250)'\n",
                "fig['layout']['xaxis'] = dict( rangeselector = dict( visible = True ) )\n",
                "fig['layout']['yaxis'] = dict( domain = [0, 0.2], showticklabels = False )\n",
                "fig['layout']['yaxis2'] = dict( domain = [0.2, 0.8] )\n",
                "fig['layout']['legend'] = dict( orientation = 'h', y=0.9, x=0.3, yanchor='bottom' )\n",
                "fig['layout']['margin'] = dict( t=40, b=40, r=40, l=40 )"
            ]
        },
        {
            "cell_type": "markdown",
            "metadata": {},
            "source": [
                "### Add range buttons"
            ]
        },
        {
            "cell_type": "code",
            "execution_count": 12,
            "metadata": {
                "collapsed": false
            },
            "outputs": [],
            "source": [
                "rangeselector=dict(\n",
                "    visibe = True,\n",
                "    x = 0, y = 0.9,\n",
                "    bgcolor = 'rgba(150, 200, 250, 0.4)',\n",
                "    font = dict( size = 13 ),\n",
                "    buttons=list([\n",
                "        dict(count=1,\n",
                "             label='reset',\n",
                "             step='all'),\n",
                "        dict(count=1,\n",
                "             label='1yr',\n",
                "             step='year',\n",
                "             stepmode='backward'),\n",
                "        dict(count=3,\n",
                "            label='3 mo',\n",
                "            step='month',\n",
                "            stepmode='backward'),\n",
                "        dict(count=1,\n",
                "            label='1 mo',\n",
                "            step='month',\n",
                "            stepmode='backward'),\n",
                "        dict(step='all')\n",
                "    ]))\n",
                "    \n",
                "fig['layout']['xaxis']['rangeselector'] = rangeselector"
            ]
        },
        {
            "cell_type": "markdown",
            "metadata": {},
            "source": [
                "### Add moving average"
            ]
        },
        {
            "cell_type": "code",
            "execution_count": 13,
            "metadata": {
                "collapsed": true
            },
            "outputs": [],
            "source": [
                "def movingaverage(interval, window_size=10):\n",
                "    window = np.ones(int(window_size))/float(window_size)\n",
                "    return np.convolve(interval, window, 'same')"
            ]
        },
        {
            "cell_type": "code",
            "execution_count": 14,
            "metadata": {
                "collapsed": false
            },
            "outputs": [],
            "source": [
                "mv_y = movingaverage(df.Close)\n",
                "mv_x = list(df.index)\n",
                "\n",
                "# Clip the ends\n",
                "mv_x = mv_x[5:-5]\n",
                "mv_y = mv_y[5:-5]\n",
                "\n",
                "fig['data'].append( dict( x=mv_x, y=mv_y, type='scatter', mode='lines', \n",
                "                         line = dict( width = 1 ),\n",
                "                         marker = dict( color = '#E377C2' ),\n",
                "                         yaxis = 'y2', name='Moving Average' ) )"
            ]
        },
        {
            "cell_type": "markdown",
            "metadata": {},
            "source": [
                "### Set volume bar chart colors"
            ]
        },
        {
            "cell_type": "code",
            "execution_count": 15,
            "metadata": {
                "collapsed": true
            },
            "outputs": [],
            "source": [
                "colors = []\n",
                "\n",
                "for i in range(len(df.Close)):\n",
                "    if i != 0:\n",
                "        if df.Close[i] > df.Close[i-1]:\n",
                "            colors.append(INCREASING_COLOR)\n",
                "        else:\n",
                "            colors.append(DECREASING_COLOR)\n",
                "    else:\n",
                "        colors.append(DECREASING_COLOR)"
            ]
        },
        {
            "cell_type": "markdown",
            "metadata": {},
            "source": [
                "### Add volume bar chart"
            ]
        },
        {
            "cell_type": "code",
            "execution_count": 16,
            "metadata": {
                "collapsed": true
            },
            "outputs": [],
            "source": [
                "fig['data'].append( dict( x=df.index, y=df.Volume,                         \n",
                "                         marker=dict( color=colors ),\n",
                "                         type='bar', yaxis='y', name='Volume' ) )"
            ]
        },
        {
            "cell_type": "markdown",
            "metadata": {},
            "source": [
                "### Add bollinger bands"
            ]
        },
        {
            "cell_type": "code",
            "execution_count": 17,
            "metadata": {
                "collapsed": false
            },
            "outputs": [],
            "source": [
                "def bbands(price, window_size=10, num_of_std=5):\n",
                "    rolling_mean = price.rolling(window=window_size).mean()\n",
                "    rolling_std  = price.rolling(window=window_size).std()\n",
                "    upper_band = rolling_mean + (rolling_std*num_of_std)\n",
                "    lower_band = rolling_mean - (rolling_std*num_of_std)\n",
                "    return rolling_mean, upper_band, lower_band\n",
                "\n",
                "bb_avg, bb_upper, bb_lower = bbands(df.Close)\n",
                "\n",
                "fig['data'].append( dict( x=df.index, y=bb_upper, type='scatter', yaxis='y2', \n",
                "                         line = dict( width = 1 ),\n",
                "                         marker=dict(color='#ccc'), hoverinfo='none', \n",
                "                         legendgroup='Bollinger Bands', name='Bollinger Bands') )\n",
                "\n",
                "fig['data'].append( dict( x=df.index, y=bb_lower, type='scatter', yaxis='y2',\n",
                "                         line = dict( width = 1 ),\n",
                "                         marker=dict(color='#ccc'), hoverinfo='none',\n",
                "                         legendgroup='Bollinger Bands', showlegend=False ) )"
            ]
        },
        {
            "cell_type": "markdown",
            "metadata": {},
            "source": [
                "### Plot"
            ]
        },
        {
            "cell_type": "code",
            "execution_count": 18,
            "metadata": {
                "collapsed": false,
                "scrolled": false
            },
            "outputs": [
                {
                    "ename": "AttributeError",
                    "evalue": "module 'plotly' has no attribute 'iplot'",
                    "output_type": "error",
                    "traceback": [
                        "\u001b[1;31m---------------------------------------------------------------------------\u001b[0m",
                        "\u001b[1;31mAttributeError\u001b[0m                            Traceback (most recent call last)",
                        "Cell \u001b[1;32mIn[18], line 1\u001b[0m\n\u001b[1;32m----> 1\u001b[0m plotly\u001b[39m.\u001b[39;49miplot( fig, filename \u001b[39m=\u001b[39m \u001b[39m'\u001b[39m\u001b[39mcandlestick-test-3\u001b[39m\u001b[39m'\u001b[39m, validate \u001b[39m=\u001b[39m \u001b[39mFalse\u001b[39;00m )\n",
                        "File \u001b[1;32mc:\\Users\\Pericles\\AppData\\Local\\Programs\\Python\\Python311\\Lib\\site-packages\\_plotly_utils\\importers.py:39\u001b[0m, in \u001b[0;36mrelative_import.<locals>.__getattr__\u001b[1;34m(import_name)\u001b[0m\n\u001b[0;32m     36\u001b[0m     class_module \u001b[39m=\u001b[39m importlib\u001b[39m.\u001b[39mimport_module(rel_module, parent_name)\n\u001b[0;32m     37\u001b[0m     \u001b[39mreturn\u001b[39;00m \u001b[39mgetattr\u001b[39m(class_module, class_name)\n\u001b[1;32m---> 39\u001b[0m \u001b[39mraise\u001b[39;00m \u001b[39mAttributeError\u001b[39;00m(\n\u001b[0;32m     40\u001b[0m     \u001b[39m\"\u001b[39m\u001b[39mmodule \u001b[39m\u001b[39m{__name__!r}\u001b[39;00m\u001b[39m has no attribute \u001b[39m\u001b[39m{name!r}\u001b[39;00m\u001b[39m\"\u001b[39m\u001b[39m.\u001b[39mformat(\n\u001b[0;32m     41\u001b[0m         name\u001b[39m=\u001b[39mimport_name, \u001b[39m__name__\u001b[39m\u001b[39m=\u001b[39mparent_name\n\u001b[0;32m     42\u001b[0m     )\n\u001b[0;32m     43\u001b[0m )\n",
                        "\u001b[1;31mAttributeError\u001b[0m: module 'plotly' has no attribute 'iplot'"
                    ]
                }
            ],
            "source": [
                "plotly.iplot( fig, filename = 'candlestick-test-3', validate = False )"
            ]
        },
        {
            "cell_type": "code",
            "execution_count": null,
            "metadata": {
                "collapsed": true
            },
            "outputs": [],
            "source": []
        }
    ],
    "metadata": {
        "anaconda-cloud": {},
        "kernelspec": {
            "display_name": "Python 3",
            "language": "python",
            "name": "python3"
        },
        "language_info": {
            "codemirror_mode": {
                "name": "ipython",
                "version": 3
            },
            "file_extension": ".py",
            "mimetype": "text/x-python",
            "name": "python",
            "nbconvert_exporter": "python",
            "pygments_lexer": "ipython3",
            "version": "3.11.1"
        },
        "vscode": {
            "interpreter": {
                "hash": "3b6a3126b434541bff97ce9dce93d9eabec3c95688c0a1ba719c7d96ebbb7025"
            }
        }
    },
    "nbformat": 4,
    "nbformat_minor": 1
}
